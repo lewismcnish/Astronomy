{
 "cells": [
  {
   "cell_type": "code",
   "execution_count": null,
   "metadata": {},
   "outputs": [],
   "source": [
    "import os\n",
    "import matplotlib.pyplot as plt\n",
    "import numpy as np\n",
    "from astropy.io import fits\n",
    "from astropy.wcs import WCS\n",
    "from a345_utilities import print_header, mem_usage     \n",
    "from matplotlib.patches import Rectangle as rect \n",
    "import numpy as np\n",
    "import os, time\n",
    "from photutils import DAOStarFinder\n",
    "from astropy.stats import mad_std\n",
    "from photutils import aperture_photometry, CircularAperture\n",
    "from a345_utilities import print_header \n",
    "from photutils import DAOStarFinder\n",
    "from astropy.stats import mad_std\n",
    "from astropy.coordinates import SkyCoord\n",
    "from photutils import CircularAnnulus\n",
    "from scipy.optimize import curve_fit\n",
    "from astropy.modeling import models, fitting\n",
    "from astropy.time import Time\n",
    "import re\n",
    "import warnings\n",
    "warnings.filterwarnings('ignore')\n",
    "from astropy.stats import sigma_clipped_stats\n",
    "\n",
    "\n",
    "\n",
    "\n",
    "from astroquery.astrometry_net import AstrometryNet\n",
    "from astroquery.exceptions import TimeoutError\n",
    "# ast = AstrometryNet()\n",
    "# ast.API_URL = 'http://nova.astro.gla.ac.uk/api' # local server\n",
    "# ast.api_key = 'XXXXXXXX'\n",
    "# ast.URL = 'http://nova.astro.gla.ac.uk'\n"
   ]
  },
  {
   "cell_type": "code",
   "execution_count": null,
   "metadata": {},
   "outputs": [],
   "source": [
    "with fits.open"
   ]
  }
 ],
 "metadata": {
  "kernelspec": {
   "display_name": "Python 3",
   "language": "python",
   "name": "python3"
  },
  "language_info": {
   "name": "python",
   "version": "3.10.11"
  }
 },
 "nbformat": 4,
 "nbformat_minor": 2
}
