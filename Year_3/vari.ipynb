{
 "cells": [
  {
   "cell_type": "code",
   "execution_count": null,
   "metadata": {},
   "outputs": [],
   "source": [
    "import numpy as np\n",
    "import scipy as sp\n",
    "import matplotlib.pyplot as plt\n",
    "import os\n",
    "import re\n",
    "from astropy.io import fits\n",
    "from astropy.wcs import WCS\n"
   ]
  },
  {
   "cell_type": "code",
   "execution_count": null,
   "metadata": {},
   "outputs": [],
   "source": [
    "cal_path = '/Volumes/external_2T/calibration/2023-10/neg10c/master/'\n",
    "data_path = '/Volumes/external_2T/'\n",
    "\n",
    "flat_dark = fits.open(cal_path + 'dark_flat_gr_3s_master.fits') #Flat dark same for all images\n",
    "\n",
    "exposure = ''      #Define the exposure of the images to calibrate\n",
    "star = ''\n",
    "\n",
    "flat_i = fits.open(cal_path + 'flat_i_master.fits')[0].data\n",
    "flat_g = fits.open(cal_path + 'flat_g_master.fits')[0].data\n",
    "flat_r = fits.open(cal_path + 'flat_r_master.fits')[0].data\n",
    "\n",
    "stars = os.listdir(data_path)\n",
    "\n",
    "if re.search(star, stars):\n",
    "\n",
    "    col_band = os.listdir(data_path + star)\n",
    "\n",
    "    print(col_band)\n",
    "    for band in col_band:\n",
    "\n",
    "        if band.endswith('I'):\n",
    "            flat = flat_i\n",
    "        elif band.endswith('G'):\n",
    "            flat = flat_g\n",
    "        elif band.endswith('R'):\n",
    "            flat = flat_r\n",
    "\n",
    "        files = os.listdir(data_path + star + band)\n",
    "        for file in files:\n",
    "            if re.search(exposure ,file):\n",
    "                dark = fits.open(cal_path + 'dark_' + exposure + '_master.fits')[0].data\n",
    "\n",
    "            if file.endswith('.fits'):\n",
    "\n",
    "\n",
    "\n"
   ]
  },
  {
   "cell_type": "code",
   "execution_count": null,
   "metadata": {},
   "outputs": [],
   "source": []
  },
  {
   "cell_type": "code",
   "execution_count": null,
   "metadata": {},
   "outputs": [],
   "source": []
  },
  {
   "cell_type": "code",
   "execution_count": null,
   "metadata": {},
   "outputs": [],
   "source": []
  },
  {
   "cell_type": "code",
   "execution_count": null,
   "metadata": {},
   "outputs": [],
   "source": []
  },
  {
   "cell_type": "code",
   "execution_count": null,
   "metadata": {},
   "outputs": [],
   "source": []
  },
  {
   "cell_type": "code",
   "execution_count": null,
   "metadata": {},
   "outputs": [],
   "source": []
  },
  {
   "cell_type": "code",
   "execution_count": null,
   "metadata": {},
   "outputs": [],
   "source": []
  },
  {
   "cell_type": "code",
   "execution_count": null,
   "metadata": {},
   "outputs": [],
   "source": []
  },
  {
   "cell_type": "code",
   "execution_count": null,
   "metadata": {},
   "outputs": [],
   "source": []
  },
  {
   "cell_type": "code",
   "execution_count": null,
   "metadata": {},
   "outputs": [],
   "source": []
  },
  {
   "cell_type": "code",
   "execution_count": null,
   "metadata": {},
   "outputs": [],
   "source": []
  }
 ],
 "metadata": {
  "kernelspec": {
   "display_name": "Python 3.11.0 64-bit",
   "language": "python",
   "name": "python3"
  },
  "language_info": {
   "name": "python",
   "version": "3.11.0"
  },
  "orig_nbformat": 4,
  "vscode": {
   "interpreter": {
    "hash": "aee8b7b246df8f9039afb4144a1f6fd8d2ca17a180786b69acc140d282b71a49"
   }
  }
 },
 "nbformat": 4,
 "nbformat_minor": 2
}
