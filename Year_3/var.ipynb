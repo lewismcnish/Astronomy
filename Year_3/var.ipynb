{
 "cells": [
  {
   "cell_type": "code",
   "execution_count": 4,
   "metadata": {},
   "outputs": [],
   "source": [
    "import numpy as np\n",
    "import scipy as sp\n",
    "import matplotlib.pyplot as plt\n",
    "import os\n",
    "import re\n",
    "from astropy.io import fits\n",
    "from astropy.wcs import WCS\n"
   ]
  },
  {
   "cell_type": "code",
   "execution_count": 13,
   "metadata": {},
   "outputs": [
    {
     "name": "stdout",
     "output_type": "stream",
     "text": [
      "['Chr R', 'Chr G', 'CHr I']\n",
      "['example_plate_solved.pdf', 'crop_example.pdf']\n",
      "\n",
      "\n",
      "['W-UMa_LIGHT_2024-01-23T20-55-56Z_Chr-G_10s_-10.0C_W_0007.fits', 'example_plate_solved.pdf', 'W-UMa_LIGHT_2024-01-23T23-07-10Z_Chr-G_10s_-9.9C_W_0022.fits', 'W-UMa_LIGHT_2024-01-24T01-18-25Z_Chr-G_10s_-10.0C_W_0037.fits', 'W-UMa_LIGHT_2024-01-24T03-24-53Z_Chr-G_10s_-9.9C_E_0051.fits', 'W-UMa_LIGHT_2024-01-23T21-48-19Z_Chr-G_10s_-10.0C_W_0013.fits', 'W-UMa_LIGHT_2024-01-24T01-27-15Z_Chr-G_10s_-10.0C_W_0038.fits', 'W-UMa_LIGHT_2024-01-24T00-08-23Z_Chr-G_10s_-10.0C_W_0029.fits', 'W-UMa_LIGHT_2024-01-24T02-06-00Z_Chr-G_10s_-10.0C_E_0042.fits', 'W-UMa_LIGHT_2024-01-23T20-38-16Z_Chr-G_10s_-10.0C_W_0005.fits', 'W-UMa_LIGHT_2024-01-23T22-31-52Z_Chr-G_10s_-10.0C_W_0018.fits', 'W-UMa_LIGHT_2024-01-24T00-17-12Z_Chr-G_10s_-10.0C_W_0030.fits', 'W-UMa_LIGHT_2024-01-24T02-23-39Z_Chr-G_10s_-10.0C_E_0044.fits', 'W-UMa_LIGHT_2024-01-23T22-40-42Z_Chr-G_10s_-10.0C_W_0019.fits', 'W-UMa_LIGHT_2024-01-23T23-50-43Z_Chr-G_10s_-10.0C_W_0027.fits', 'W-UMa_LIGHT_2024-01-24T01-00-46Z_Chr-G_10s_-10.0C_W_0035.fits', 'W-UMa_LIGHT_2024-01-24T02-14-50Z_Chr-G_10s_-10.0C_E_0043.fits', 'W-UMa_LIGHT_2024-01-23T22-58-20Z_Chr-G_10s_-10.0C_W_0021.fits', 'W-UMa_LIGHT_2024-01-23T21-21-50Z_Chr-G_10s_-10.0C_W_0010.fits', 'W-UMa_LIGHT_2024-01-23T20-11-47Z_Chr-G_10s_-10.0C_W_0002.fits', 'W-UMa_LIGHT_2024-01-23T21-57-08Z_Chr-G_10s_-10.0C_W_0014.fits', 'W-UMa_LIGHT_2024-01-24T02-41-18Z_Chr-G_10s_-10.0C_E_0046.fits', 'W-UMa_LIGHT_2024-01-23T23-59-33Z_Chr-G_10s_-10.0C_W_0028.fits', 'W-UMa_LIGHT_2024-01-24T01-09-36Z_Chr-G_10s_-9.9C_W_0036.fits', 'W-UMa_LIGHT_2024-01-24T02-58-58Z_Chr-G_10s_-9.9C_E_0048.fits', 'W-UMa_LIGHT_2024-01-23T22-05-58Z_Chr-G_10s_-9.9C_W_0015.fits', 'W-UMa_LIGHT_2024-01-23T20-29-27Z_Chr-G_10s_-10.0C_W_0004.fits', 'W-UMa_LIGHT_2024-01-23T20-47-06Z_Chr-G_10s_-10.0C_W_0006.fits', 'W-UMa_LIGHT_2024-01-23T23-15-59Z_Chr-G_10s_-9.9C_W_0023.fits', 'W-UMa_LIGHT_2024-01-24T00-51-56Z_Chr-G_10s_-10.0C_W_0034.fits', 'crop_example.pdf', 'W-UMa_LIGHT_2024-01-23T23-24-49Z_Chr-G_10s_-10.0C_W_0024.fits', 'W-UMa_LIGHT_2024-01-23T22-49-31Z_Chr-G_10s_-10.0C_W_0020.fits', 'W-UMa_LIGHT_2024-01-23T20-02-58Z_Chr-G_10s_-9.9C_W_0001.fits', 'W-UMa_LIGHT_2024-01-24T02-32-28Z_Chr-G_10s_-10.0C_E_0045.fits', 'W-UMa_LIGHT_2024-01-24T03-16-04Z_Chr-G_10s_-10.0C_E_0050.fits', 'W-UMa_LIGHT_2024-01-23T23-33-04Z_Chr-G_10s_-10.0C_W_0025.fits', 'W-UMa_LIGHT_2024-01-24T03-07-15Z_Chr-G_10s_-10.0C_E_0049.fits', 'W-UMa_LIGHT_2024-01-24T00-34-51Z_Chr-G_10s_-10.0C_W_0032.fits', 'W-UMa_LIGHT_2024-01-24T01-44-54Z_Chr-G_10s_-10.0C_W_0040.fits', 'W-UMa_LIGHT_2024-01-23T22-14-48Z_Chr-G_10s_-9.9C_W_0016.fits', 'W-UMa_LIGHT_2024-01-24T01-36-04Z_Chr-G_10s_-10.0C_W_0039.fits', 'W-UMa_LIGHT_2024-01-23T22-23-03Z_Chr-G_10s_-10.0C_W_0017.fits', 'W-UMa_LIGHT_2024-01-23T21-13-00Z_Chr-G_10s_-9.9C_W_0009.fits', 'W-UMa_LIGHT_2024-01-24T01-57-11Z_Chr-G_10s_-9.9C_E_0041.fits', 'W-UMa_LIGHT_2024-01-23T20-20-37Z_Chr-G_10s_-10.0C_W_0003.fits', 'W-UMa_LIGHT_2024-01-23T21-39-30Z_Chr-G_10s_-10.0C_W_0012.fits', 'W-UMa_LIGHT_2024-01-23T21-30-40Z_Chr-G_10s_-10.0C_W_0011.fits', 'W-UMa_LIGHT_2024-01-23T23-41-54Z_Chr-G_10s_-10.0C_W_0026.fits', 'W-UMa_LIGHT_2024-01-24T02-50-08Z_Chr-G_10s_-10.0C_E_0047.fits', 'W-UMa_LIGHT_2024-01-24T00-43-07Z_Chr-G_10s_-10.0C_W_0033.fits', 'W-UMa_LIGHT_2024-01-24T00-26-02Z_Chr-G_10s_-10.0C_W_0031.fits', 'W-UMa_LIGHT_2024-01-23T21-04-45Z_Chr-G_10s_-10.0C_W_0008.fits']\n",
      "\n",
      "\n",
      "['W-UMa_LIGHT_2024-01-24T03-21-56Z_Chr-I_10s_-9.9C_E_0050.fits', 'W-UMa_LIGHT_2024-01-23T22-11-50Z_Chr-I_10s_-9.9C_W_0015.fits', 'W-UMa_LIGHT_2024-01-24T01-24-17Z_Chr-I_10s_-10.0C_W_0037.fits', 'W-UMa_LIGHT_2024-01-23T23-21-51Z_Chr-I_10s_-10.0C_W_0023.fits', 'example_plate_solved.pdf', 'W-UMa_LIGHT_2024-01-24T03-30-46Z_Chr-I_10s_-9.9C_E_0051.fits', 'W-UMa_LIGHT_2024-01-24T04-58-30Z_Chr-I_10s_-10.0C_E_0061.fits', 'W-UMa_LIGHT_2024-01-23T22-28-55Z_Chr-I_10s_-10.0C_W_0017.fits', 'W-UMa_LIGHT_2024-01-24T02-20-41Z_Chr-I_10s_-10.0C_E_0043.fits', 'W-UMa_LIGHT_2024-01-23T20-26-30Z_Chr-I_10s_-10.0C_W_0003.fits', 'W-UMa_LIGHT_2024-01-24T04-14-54Z_Chr-I_10s_-10.0C_E_0056.fits', 'W-UMa_LIGHT_2024-01-24T02-11-53Z_Chr-I_10s_-10.0C_E_0042.fits', 'W-UMa_LIGHT_2024-01-23T22-55-23Z_Chr-I_10s_-10.0C_W_0020.fits', 'W-UMa_LIGHT_2024-01-24T04-23-11Z_Chr-I_10s_-10.0C_E_0057.fits', 'W-UMa_LIGHT_2024-01-23T20-52-58Z_Chr-I_10s_-10.0C_W_0006.fits', 'W-UMa_LIGHT_2024-01-24T03-13-07Z_Chr-I_10s_-10.0C_E_0049.fits', 'W-UMa_LIGHT_2024-01-23T23-04-12Z_Chr-I_10s_-10.0C_W_0021.fits', 'W-UMa_LIGHT_2024-01-23T20-17-39Z_Chr-I_10s_-9.9C_W_0002.fits', 'W-UMa_LIGHT_2024-01-23T21-45-22Z_Chr-I_10s_-9.9C_W_0012.fits', 'W-UMa_LIGHT_2024-01-24T00-23-04Z_Chr-I_10s_-10.0C_W_0030.fits', 'W-UMa_LIGHT_2024-01-24T00-57-49Z_Chr-I_10s_-10.0C_W_0034.fits', 'W-UMa_LIGHT_2024-01-24T01-15-28Z_Chr-I_10s_-10.0C_W_0036.fits', 'W-UMa_LIGHT_2024-01-23T21-01-48Z_Chr-I_10s_-10.0C_W_0007.fits', 'W-UMa_LIGHT_2024-01-24T00-31-54Z_Chr-I_10s_-10.0C_W_0031.fits', 'W-UMa_LIGHT_2024-01-23T23-13-01Z_Chr-I_10s_-10.0C_W_0022.fits', 'W-UMa_LIGHT_2024-01-24T01-41-57Z_Chr-I_10s_-9.9C_W_0039.fits', 'W-UMa_LIGHT_2024-01-24T05-07-19Z_Chr-I_10s_-10.0C_E_0062.fits', 'W-UMa_LIGHT_2024-01-24T03-39-36Z_Chr-I_10s_-10.0C_E_0052.fits', 'W-UMa_LIGHT_2024-01-24T02-47-10Z_Chr-I_10s_-9.9C_E_0046.fits', 'W-UMa_LIGHT_2024-01-24T00-40-43Z_Chr-I_10s_-9.9C_W_0032.fits', 'W-UMa_LIGHT_2024-01-24T02-56-01Z_Chr-I_10s_-10.0C_E_0047.fits', 'W-UMa_LIGHT_2024-01-24T02-38-20Z_Chr-I_10s_-10.0C_E_0045.fits', 'W-UMa_LIGHT_2024-01-24T03-57-15Z_Chr-I_10s_-9.9C_E_0054.fits', 'W-UMa_LIGHT_2024-01-23T21-10-38Z_Chr-I_10s_-10.0C_W_0008.fits', 'W-UMa_LIGHT_2024-01-23T21-54-11Z_Chr-I_10s_-10.0C_W_0013.fits', 'W-UMa_LIGHT_2024-01-23T23-56-36Z_Chr-I_10s_-10.0C_W_0027.fits', 'W-UMa_LIGHT_2024-01-24T04-32-01Z_Chr-I_10s_-10.0C_E_0058.fits', 'W-UMa_LIGHT_2024-01-23T21-27-42Z_Chr-I_10s_-10.0C_W_0010.fits', 'crop_example.pdf', 'W-UMa_LIGHT_2024-01-24T01-06-39Z_Chr-I_10s_-9.9C_W_0035.fits', 'W-UMa_LIGHT_2024-01-24T04-49-40Z_Chr-I_10s_-10.0C_E_0060.fits', 'W-UMa_LIGHT_2024-01-23T22-46-34Z_Chr-I_10s_-10.0C_W_0019.fits', 'W-UMa_LIGHT_2024-01-24T01-33-07Z_Chr-I_10s_-10.0C_W_0038.fits', 'W-UMa_LIGHT_2024-01-23T22-03-01Z_Chr-I_10s_-10.0C_W_0014.fits', 'W-UMa_LIGHT_2024-01-24T00-48-59Z_Chr-I_10s_-9.9C_W_0033.fits', 'W-UMa_LIGHT_2024-01-24T05-33-15Z_Chr-I_10s_-10.0C_E_0065.fits', 'W-UMa_LIGHT_2024-01-24T02-03-03Z_Chr-I_10s_-10.0C_E_0041.fits', 'W-UMa_LIGHT_2024-01-23T20-35-19Z_Chr-I_10s_-10.0C_W_0004.fits', 'W-UMa_LIGHT_2024-01-24T04-06-04Z_Chr-I_10s_-10.0C_E_0055.fits', 'W-UMa_LIGHT_2024-01-24T04-40-50Z_Chr-I_10s_-9.9C_E_0059.fits', 'W-UMa_LIGHT_2024-01-24T02-29-31Z_Chr-I_10s_-10.0C_E_0044.fits', 'W-UMa_LIGHT_2024-01-24T00-14-15Z_Chr-I_10s_-10.0C_W_0029.fits', 'W-UMa_LIGHT_2024-01-24T05-24-59Z_Chr-I_10s_-10.0C_E_0064.fits', 'W-UMa_LIGHT_2024-01-23T22-20-40Z_Chr-I_10s_-10.0C_W_0016.fits', 'W-UMa_LIGHT_2024-01-24T00-05-25Z_Chr-I_10s_-10.0C_W_0028.fits', 'W-UMa_LIGHT_2024-01-24T05-16-09Z_Chr-I_10s_-10.0C_E_0063.fits', 'W-UMa_LIGHT_2024-01-23T23-30-41Z_Chr-I_10s_-10.0C_W_0024.fits', 'W-UMa_LIGHT_2024-01-23T20-44-09Z_Chr-I_10s_-10.0C_W_0005.fits', 'W-UMa_LIGHT_2024-01-24T03-04-50Z_Chr-I_10s_-10.0C_E_0048.fits', 'W-UMa_LIGHT_2024-01-24T01-50-45Z_Chr-I_10s_-10.0C_W_0040.fits', 'W-UMa_LIGHT_2024-01-24T03-48-26Z_Chr-I_10s_-9.9C_E_0053.fits', 'W-UMa_LIGHT_2024-01-23T20-08-51Z_Chr-I_10s_-9.9C_W_0001.fits', 'W-UMa_LIGHT_2024-01-23T22-37-44Z_Chr-I_10s_-10.0C_W_0018.fits', 'W-UMa_LIGHT_2024-01-23T23-38-57Z_Chr-I_10s_-10.0C_W_0025.fits', 'W-UMa_LIGHT_2024-01-23T21-18-52Z_Chr-I_10s_-10.0C_W_0009.fits', 'W-UMa_LIGHT_2024-01-23T21-36-32Z_Chr-I_10s_-10.0C_W_0011.fits', 'W-UMa_LIGHT_2024-01-23T23-47-46Z_Chr-I_10s_-10.0C_W_0026.fits']\n",
      "\n",
      "\n"
     ]
    }
   ],
   "source": [
    "cal_path = '/Volumes/external_2T/calibration/2023-10/neg10c/master/'\n",
    "data_path = '/Volumes/external_2T/'\n",
    "\n",
    "flat_dark = fits.open(cal_path + 'dark_flat_gr_3s_master.fits') #Flat dark same for all images\n",
    "\n",
    "exposure = ''      #Define the exposure of the images to calibrate\n",
    "star = ''\n",
    "\n",
    "flat_i = fits.open(cal_path + 'flat_i_master.fits')[0].data\n",
    "flat_g = fits.open(cal_path + 'flat_g_master.fits')[0].data\n",
    "flat_r = fits.open(cal_path + 'flat_r_master.fits')[0].data\n",
    "\n",
    "stars = os.listdir(data_path)\n",
    "\n",
    "if re.search(star, stars):\n",
    "\n",
    "    col_band = os.listdir(data_path + star)\n",
    "\n",
    "    print(col_band)\n",
    "    for band in col_band:\n",
    "\n",
    "        if band.endswith('I'):\n",
    "            flat = flat_i\n",
    "        elif band.endswith('G'):\n",
    "            flat = flat_g\n",
    "        elif band.endswith('R'):\n",
    "            flat = flat_r\n",
    "\n",
    "        files = os.listdir(data_path + star + band)\n",
    "        for file in files:\n",
    "            if re.search(exposure ,file):\n",
    "                dark = fits.open(cal_path + 'dark_' + exposure + '_master.fits')[0].data\n",
    "\n",
    "            if file.endswith('.fits'):\n",
    "\n",
    "\n",
    "\n"
   ]
  },
  {
   "cell_type": "code",
   "execution_count": null,
   "metadata": {},
   "outputs": [],
   "source": []
  },
  {
   "cell_type": "code",
   "execution_count": null,
   "metadata": {},
   "outputs": [],
   "source": []
  },
  {
   "cell_type": "code",
   "execution_count": null,
   "metadata": {},
   "outputs": [],
   "source": []
  },
  {
   "cell_type": "code",
   "execution_count": null,
   "metadata": {},
   "outputs": [],
   "source": []
  },
  {
   "cell_type": "code",
   "execution_count": null,
   "metadata": {},
   "outputs": [],
   "source": []
  },
  {
   "cell_type": "code",
   "execution_count": null,
   "metadata": {},
   "outputs": [],
   "source": []
  },
  {
   "cell_type": "code",
   "execution_count": null,
   "metadata": {},
   "outputs": [],
   "source": []
  },
  {
   "cell_type": "code",
   "execution_count": null,
   "metadata": {},
   "outputs": [],
   "source": []
  },
  {
   "cell_type": "code",
   "execution_count": null,
   "metadata": {},
   "outputs": [],
   "source": []
  }
 ],
 "metadata": {
  "kernelspec": {
   "display_name": "Python 3.10.11 64-bit",
   "language": "python",
   "name": "python3"
  },
  "language_info": {
   "codemirror_mode": {
    "name": "ipython",
    "version": 3
   },
   "file_extension": ".py",
   "mimetype": "text/x-python",
   "name": "python",
   "nbconvert_exporter": "python",
   "pygments_lexer": "ipython3",
   "version": "3.10.11"
  },
  "orig_nbformat": 4,
  "vscode": {
   "interpreter": {
    "hash": "bd385fe162c5ca0c84973b7dd5c518456272446b2b64e67c2a69f949ca7a1754"
   }
  }
 },
 "nbformat": 4,
 "nbformat_minor": 2
}
