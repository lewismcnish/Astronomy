{
 "cells": [
  {
   "cell_type": "code",
   "execution_count": 3,
   "metadata": {},
   "outputs": [],
   "source": [
    "import numpy as np\n",
    "import scipy as sp\n",
    "import matplotlib.pyplot as plt\n",
    "import os\n",
    "import re\n",
    "from astropy.io import fits\n",
    "from astropy.wcs import WCS\n"
   ]
  },
  {
   "cell_type": "code",
   "execution_count": 30,
   "metadata": {},
   "outputs": [
    {
     "name": "stdout",
     "output_type": "stream",
     "text": [
      "['Year_3', '.Spotlight-V100', '.DS_Store', 'images', 'calibration', 'W UMa', 'TZ_Aur', 'calibrated_images', '.Trashes', 'Variable Star', 'V403 Gem', '.fseventsd', '.git']\n",
      "['Chr R', 'Chr G', 'CHr I']\n",
      "38963.10313180551\n",
      "39188.132325294624\n",
      "25066.499098423286\n"
     ]
    },
    {
     "data": {
      "image/png": "[encoded data removed]",
      "text/plain": [
       "<Figure size 640x480 with 1 Axes>"
      ]
     },
     "metadata": {},
     "output_type": "display_data"
    }
   ],
   "source": [
    "cal_path = '/Volumes/external_2T/calibration/2023-10/neg10c/master/'\n",
    "data_path = '/Volumes/external_2T/'\n",
    "\n",
    "flat_dark = fits.open(cal_path + 'dark_flat_gr_3s_master.fits')[0].data #Flat dark same for all images\n",
    "\n",
    "exposure = '10s'      #Define the exposure of the images to calibrate\n",
    "star_name = 'W UMa'      # Define star name\n",
    "\n",
    "flat_i = fits.open(cal_path + 'flat_i_master.fits')[0].data\n",
    "flat_g = fits.open(cal_path + 'flat_g_master.fits')[0].data\n",
    "flat_r = fits.open(cal_path + 'flat_r_master.fits')[0].data\n",
    "\n",
    "stars = os.listdir(data_path)\n",
    "print(stars)\n",
    "for star in stars:\n",
    "    if re.search(star_name, star):\n",
    "\n",
    "        col_band = os.listdir(data_path + star)\n",
    "        \n",
    "        col_band = col_band[1:]\n",
    "            \n",
    "        print(col_band)\n",
    "        for band in col_band:\n",
    "            \n",
    "            if band.endswith('I'):\n",
    "                flat = flat_i\n",
    "            elif band.endswith('G'):\n",
    "                flat = flat_g\n",
    "            elif band.endswith('R'):\n",
    "                flat = flat_r\n",
    "\n",
    "            avg_flat_dark = np.mean((flat-flat_dark))\n",
    "            print(avg_flat_dark)\n",
    "            files = os.listdir(data_path + star + '/' + band)\n",
    "            for file in files:\n",
    "\n",
    "                if re.search(exposure ,file):\n",
    "                    dark = fits.open(cal_path + 'dark_' + exposure + '_master.fits')[0].data\n",
    "\n",
    "                if file.endswith('.fits'):\n",
    "                    science = fits.open(data_path + star + '/' + band + '/' + file)[0].data\n",
    "                    header = fits.open(data_path + star + '/' + band + '/' + file)[0].header\n",
    "                    cali_img = (science - dark) * (avg_flat_dark/(flat - flat_dark))\n",
    "                    plt.imshow(cali_img)\n",
    "\n",
    "                    hdu = fits.PrimaryHDU(cali_img)\n",
    "                    hdu.header.update(header)\n",
    "                    hdu.writeto(data_path + 'calibrated_images/' + star + '/' + band + '/' + '_calibrated_' + file, overwrite = True)\n"
   ]
  },
  {
   "cell_type": "code",
   "execution_count": null,
   "metadata": {},
   "outputs": [],
   "source": []
  },
  {
   "cell_type": "code",
   "execution_count": null,
   "metadata": {},
   "outputs": [],
   "source": []
  },
  {
   "cell_type": "code",
   "execution_count": null,
   "metadata": {},
   "outputs": [],
   "source": []
  },
  {
   "cell_type": "code",
   "execution_count": null,
   "metadata": {},
   "outputs": [],
   "source": []
  },
  {
   "cell_type": "code",
   "execution_count": null,
   "metadata": {},
   "outputs": [],
   "source": []
  },
  {
   "cell_type": "code",
   "execution_count": null,
   "metadata": {},
   "outputs": [],
   "source": []
  },
  {
   "cell_type": "code",
   "execution_count": null,
   "metadata": {},
   "outputs": [],
   "source": []
  },
  {
   "cell_type": "code",
   "execution_count": null,
   "metadata": {},
   "outputs": [],
   "source": []
  },
  {
   "cell_type": "code",
   "execution_count": null,
   "metadata": {},
   "outputs": [],
   "source": []
  }
 ],
 "metadata": {
  "kernelspec": {
   "display_name": "Python 3.10.11 64-bit",
   "language": "python",
   "name": "python3"
  },
  "language_info": {
   "codemirror_mode": {
    "name": "ipython",
    "version": 3
   },
   "file_extension": ".py",
   "mimetype": "text/x-python",
   "name": "python",
   "nbconvert_exporter": "python",
   "pygments_lexer": "ipython3",
   "version": "3.10.11"
  },
  "orig_nbformat": 4,
  "vscode": {
   "interpreter": {
    "hash": "bd385fe162c5ca0c84973b7dd5c518456272446b2b64e67c2a69f949ca7a1754"
   }
  }
 },
 "nbformat": 4,
 "nbformat_minor": 2
}
