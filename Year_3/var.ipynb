{
 "cells": [
  {
   "cell_type": "code",
   "execution_count": 6,
   "metadata": {},
   "outputs": [
    {
     "name": "stderr",
     "output_type": "stream",
     "text": [
      "/var/folders/tn/fqh6631n3p56r504tcsqvss00000gn/T/ipykernel_64483/4132661805.py:8: DeprecationWarning: `photutils.DAOStarFinder` is a deprecated alias for `photutils.detection.DAOStarFinder` and will be removed in the future. Instead, please use `from photutils.detection import DAOStarFinder` to silence this warning.\n",
      "  from photutils import DAOStarFinder\n",
      "/var/folders/tn/fqh6631n3p56r504tcsqvss00000gn/T/ipykernel_64483/4132661805.py:10: DeprecationWarning: `photutils.aperture_photometry` is a deprecated alias for `photutils.aperture.aperture_photometry` and will be removed in the future. Instead, please use `from photutils.aperture import aperture_photometry` to silence this warning.\n",
      "  from photutils import aperture_photometry, CircularAperture\n",
      "/var/folders/tn/fqh6631n3p56r504tcsqvss00000gn/T/ipykernel_64483/4132661805.py:10: DeprecationWarning: `photutils.CircularAperture` is a deprecated alias for `photutils.aperture.CircularAperture` and will be removed in the future. Instead, please use `from photutils.aperture import CircularAperture` to silence this warning.\n",
      "  from photutils import aperture_photometry, CircularAperture\n",
      "WARNING: Astrometry.net API key not found in configuration file [astroquery.astrometry_net.core]\n",
      "WARNING: You need to manually edit the configuration file and add it [astroquery.astrometry_net.core]\n",
      "WARNING: You may also register it for this session with AstrometryNet.key = 'XXXXXXXX' [astroquery.astrometry_net.core]\n"
     ]
    }
   ],
   "source": [
    "import numpy as np\n",
    "import scipy as sp\n",
    "import matplotlib.pyplot as plt\n",
    "import os, time\n",
    "import re\n",
    "from astropy.io import fits\n",
    "from astropy.wcs import WCS\n",
    "from photutils import DAOStarFinder\n",
    "from astropy.stats import mad_std\n",
    "from photutils import aperture_photometry, CircularAperture\n",
    "from astroquery.astrometry_net import AstrometryNet\n",
    "from astroquery.exceptions import TimeoutError\n",
    "from a345_utilities import print_header    \n",
    "\n",
    "ast = AstrometryNet()\n",
    "ast.API_URL = 'http://nova.astro.gla.ac.uk/api' \n",
    "ast.api_key = 'XXXXXXXX'\n",
    "ast.URL = 'http://nova.astro.gla.ac.uk'\n",
    "\n"
   ]
  },
  {
   "cell_type": "code",
   "execution_count": 7,
   "metadata": {},
   "outputs": [
    {
     "name": "stdout",
     "output_type": "stream",
     "text": [
      "['Year_3', '.Spotlight-V100', '.DS_Store', 'images', 'calibration', 'W UMa', 'TZ_Aur', 'calibrated_images', '.Trashes', 'Variable Star', 'V403 Gem', '.fseventsd', '.git']\n",
      "['Chr R', 'Chr G', 'CHr I']\n",
      "38963.10313180551\n",
      "39188.132325294624\n",
      "25066.499098423286\n"
     ]
    }
   ],
   "source": [
    "cal_path = '/Volumes/external_2T/calibration/2023-10/neg10c/master/'\n",
    "data_path = '/Volumes/external_2T/'\n",
    "\n",
    "flat_dark = fits.open(cal_path + 'dark_flat_gr_3s_master.fits')[0].data #Flat dark same for all images\n",
    "\n",
    "exposure = '10s'      #Define the exposure of the images to calibrate\n",
    "star_name = 'W UMa'      # Define star name\n",
    "\n",
    "flat_i = fits.open(cal_path + 'flat_i_master.fits')[0].data\n",
    "flat_g = fits.open(cal_path + 'flat_g_master.fits')[0].data\n",
    "flat_r = fits.open(cal_path + 'flat_r_master.fits')[0].data\n",
    "\n",
    "stars = os.listdir(data_path)\n",
    "print(stars)\n",
    "for star in stars:\n",
    "    if re.search(star_name, star):\n",
    "\n",
    "        col_band = os.listdir(data_path + star)\n",
    "        \n",
    "        col_band = col_band[1:]\n",
    "            \n",
    "        print(col_band)\n",
    "        for band in col_band:\n",
    "            \n",
    "            if band.endswith('I'):\n",
    "                flat = flat_i\n",
    "            elif band.endswith('G'):\n",
    "                flat = flat_g\n",
    "            elif band.endswith('R'):\n",
    "                flat = flat_r\n",
    "\n",
    "            avg_flat_dark = np.mean((flat-flat_dark))\n",
    "            print(avg_flat_dark)\n",
    "            files = os.listdir(data_path + star + '/' + band)\n",
    "            for file in files:\n",
    "\n",
    "                if re.search(exposure ,file):\n",
    "                    dark = fits.open(cal_path + 'dark_' + exposure + '_master.fits')[0].data\n",
    "\n",
    "                if file.endswith('.fits'):\n",
    "                    science = fits.open(data_path + star + '/' + band + '/' + file)[0].data\n",
    "                    header = fits.open(data_path + star + '/' + band + '/' + file)[0].header\n",
    "                    cali_img = (science - dark) * (avg_flat_dark/(flat - flat_dark))\n",
    "\n",
    "                    hdu = fits.PrimaryHDU(cali_img)\n",
    "                    hdu.header.update(header)\n",
    "                    hdu.writeto(data_path + 'calibrated_images/' + star + '/' + band + '/' + '_calibrated_' + file, overwrite = True)\n"
   ]
  },
  {
   "cell_type": "code",
   "execution_count": 9,
   "metadata": {},
   "outputs": [
    {
     "name": "stdout",
     "output_type": "stream",
     "text": [
      "Sending data to AstrometryNet server:\n",
      "Solving........................................................................................\n",
      " -> Success. Solving took 124.5s\n"
     ]
    },
    {
     "ename": "NameError",
     "evalue": "name 'print_header' is not defined",
     "output_type": "error",
     "traceback": [
      "\u001b[0;31m---------------------------------------------------------------------------\u001b[0m",
      "\u001b[0;31mNameError\u001b[0m                                 Traceback (most recent call last)",
      "Cell \u001b[0;32mIn[9], line 42\u001b[0m\n\u001b[1;32m     40\u001b[0m \u001b[39mif\u001b[39;00m wcs_header:   \n\u001b[1;32m     41\u001b[0m     \u001b[39mprint\u001b[39m(\u001b[39m'\u001b[39m\u001b[39m\\n\u001b[39;00m\u001b[39m -> Success. Solving took \u001b[39m\u001b[39m{:0.1f}\u001b[39;00m\u001b[39ms\u001b[39m\u001b[39m'\u001b[39m\u001b[39m.\u001b[39mformat(time\u001b[39m.\u001b[39mtime()\u001b[39m-\u001b[39mt_start))\n\u001b[0;32m---> 42\u001b[0m     print_header(wcs_header)        \n\u001b[1;32m     43\u001b[0m \u001b[39melse\u001b[39;00m:\n\u001b[1;32m     44\u001b[0m     \u001b[39mprint\u001b[39m(\u001b[39m'\u001b[39m\u001b[39m\\n\u001b[39;00m\u001b[39m -> Solving failed after \u001b[39m\u001b[39m{:0.1f}\u001b[39;00m\u001b[39ms\u001b[39m\u001b[39m'\u001b[39m\u001b[39m.\u001b[39mformat(time\u001b[39m.\u001b[39mtime()\u001b[39m-\u001b[39mt_start))   \n",
      "\u001b[0;31mNameError\u001b[0m: name 'print_header' is not defined"
     ]
    }
   ],
   "source": [
    "for star in stars:\n",
    "    if re.search(star_name, star):\n",
    "        col_band = os.listdir(data_path + star)\n",
    "        \n",
    "        col_band = col_band[1:]\n",
    "        for band in col_band:\n",
    "            files = os.listdir(data_path + star + '/' + band)\n",
    "            for file in files:\n",
    "                if file.endswith('.fits'):\n",
    "                    data = fits.open(data_path + star + '/' + band + '/' + file)[0].data\n",
    "                    header = fits.open(data_path + star + '/' + band + '/' + file)[0].header\n",
    "\n",
    "                    d_mean = np.mean(data);    \n",
    "                    d_std  = np.std(data);     \n",
    "                    vmin = d_mean - d_std/2     \n",
    "                    vmax = d_mean + d_std   \n",
    "\n",
    "\n",
    "                    bkg_sigma = mad_std(data)                                    \n",
    "                    daofind = DAOStarFinder(fwhm=6, threshold=20*bkg_sigma)    \n",
    "\n",
    "                    sources = daofind(data)  \n",
    "                    for col in sources.colnames:  \n",
    "                        sources[col].info.format = '%.6g' \n",
    "\n",
    "\n",
    "                    sources.sort('flux') \n",
    "                    sources.reverse()   \n",
    "                    sources  \n",
    "\n",
    "\n",
    "                    image_width, image_height = data.shape\n",
    "                    wcs_header = None           \n",
    "                    t_start = time.time()\n",
    "                    try:\n",
    "                        print('Sending data to AstrometryNet server:')\n",
    "                        wcs_header = ast.solve_from_source_list(sources['xcentroid'], sources['ycentroid'],\n",
    "                                                                image_width, image_height,\n",
    "                                                                solve_timeout=30000)\n",
    "                        if wcs_header:   \n",
    "                            print('\\n -> Success. Solving took {:0.1f}s'.format(time.time()-t_start))\n",
    "                            print_header(wcs_header)        \n",
    "                        else:\n",
    "                            print('\\n -> Solving failed after {:0.1f}s'.format(time.time()-t_start))   \n",
    "                    except TimeoutError:       \n",
    "                        print('\\n -> ##FAIL: Timeout while solving, try a longer timeout, optmise number of sources (200-800 seems about right)')\n"
   ]
  },
  {
   "cell_type": "code",
   "execution_count": null,
   "metadata": {},
   "outputs": [],
   "source": []
  },
  {
   "cell_type": "code",
   "execution_count": null,
   "metadata": {},
   "outputs": [],
   "source": []
  },
  {
   "cell_type": "code",
   "execution_count": null,
   "metadata": {},
   "outputs": [],
   "source": []
  },
  {
   "cell_type": "code",
   "execution_count": null,
   "metadata": {},
   "outputs": [],
   "source": []
  },
  {
   "cell_type": "code",
   "execution_count": null,
   "metadata": {},
   "outputs": [],
   "source": []
  },
  {
   "cell_type": "code",
   "execution_count": null,
   "metadata": {},
   "outputs": [],
   "source": []
  },
  {
   "cell_type": "code",
   "execution_count": null,
   "metadata": {},
   "outputs": [],
   "source": []
  },
  {
   "cell_type": "code",
   "execution_count": null,
   "metadata": {},
   "outputs": [],
   "source": []
  }
 ],
 "metadata": {
  "kernelspec": {
   "display_name": "Python 3.11.5 ('base')",
   "language": "python",
   "name": "python3"
  },
  "language_info": {
   "codemirror_mode": {
    "name": "ipython",
    "version": 3
   },
   "file_extension": ".py",
   "mimetype": "text/x-python",
   "name": "python",
   "nbconvert_exporter": "python",
   "pygments_lexer": "ipython3",
   "version": "3.11.5"
  },
  "orig_nbformat": 4,
  "vscode": {
   "interpreter": {
    "hash": "70e0cb35dbfcf992d552b8f436f4a059eda965a3fdd52879b6c7dca44efa4a9d"
   }
  }
 },
 "nbformat": 4,
 "nbformat_minor": 2
}
