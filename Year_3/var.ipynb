{
 "cells": [
  {
   "cell_type": "code",
   "execution_count": 14,
   "metadata": {},
   "outputs": [
    {
     "name": "stderr",
     "output_type": "stream",
     "text": [
      "/var/folders/tn/fqh6631n3p56r504tcsqvss00000gn/T/ipykernel_64483/1686727451.py:8: DeprecationWarning: `photutils.DAOStarFinder` is a deprecated alias for `photutils.detection.DAOStarFinder` and will be removed in the future. Instead, please use `from photutils.detection import DAOStarFinder` to silence this warning.\n",
      "  from photutils import DAOStarFinder\n",
      "/var/folders/tn/fqh6631n3p56r504tcsqvss00000gn/T/ipykernel_64483/1686727451.py:10: DeprecationWarning: `photutils.aperture_photometry` is a deprecated alias for `photutils.aperture.aperture_photometry` and will be removed in the future. Instead, please use `from photutils.aperture import aperture_photometry` to silence this warning.\n",
      "  from photutils import aperture_photometry, CircularAperture\n",
      "/var/folders/tn/fqh6631n3p56r504tcsqvss00000gn/T/ipykernel_64483/1686727451.py:10: DeprecationWarning: `photutils.CircularAperture` is a deprecated alias for `photutils.aperture.CircularAperture` and will be removed in the future. Instead, please use `from photutils.aperture import CircularAperture` to silence this warning.\n",
      "  from photutils import aperture_photometry, CircularAperture\n"
     ]
    }
   ],
   "source": [
    "import numpy as np\n",
    "import scipy as sp\n",
    "import matplotlib.pyplot as plt\n",
    "import os, time\n",
    "import re\n",
    "from astropy.io import fits\n",
    "from astropy.wcs import WCS\n",
    "from photutils import DAOStarFinder\n",
    "from astropy.stats import mad_std\n",
    "from photutils import aperture_photometry, CircularAperture\n",
    "from astroquery.astrometry_net import AstrometryNet\n",
    "from astroquery.exceptions import TimeoutError\n",
    "from a345_utilities import print_header    \n",
    "\n",
    "ast = AstrometryNet()\n",
    "ast.API_URL = 'http://nova.astro.gla.ac.uk/api' \n",
    "ast.api_key = 'XXXXXXXX'\n",
    "ast.URL = 'http://nova.astro.gla.ac.uk'\n",
    "\n"
   ]
  },
  {
   "cell_type": "code",
   "execution_count": 25,
   "metadata": {},
   "outputs": [
    {
     "name": "stdout",
     "output_type": "stream",
     "text": [
      "['Year_3', '.Spotlight-V100', '.DS_Store', 'images', 'calibration', 'W UMa', 'TZ_Aur', 'calibrated_images', 'platesolved_img', '.Trashes', 'Variable Star', 'V403 Gem', '.fseventsd', '.git']\n",
      "['Chr R', 'Chr G', 'CHr I']\n",
      "38963.10313180551\n",
      "39188.132325294624\n",
      "25066.499098423286\n"
     ]
    },
    {
     "data": {
      "image/png": "[encoded data removed]",
      "text/plain": [
       "<Figure size 640x480 with 1 Axes>"
      ]
     },
     "metadata": {},
     "output_type": "display_data"
    }
   ],
   "source": [
    "cal_path = '/Volumes/external_2T/calibration/2023-10/neg10c/master/'\n",
    "data_path = '/Volumes/external_2T/'\n",
    "\n",
    "flat_dark = fits.open(cal_path + 'dark_flat_gr_3s_master.fits')[0].data #Flat dark same for all images\n",
    "\n",
    "exposure = '10s'      #Define the exposure of the images to calibrate\n",
    "star_name = 'W UMa'      # Define star name\n",
    "\n",
    "flat_i = fits.open(cal_path + 'flat_i_master.fits')[0].data\n",
    "flat_g = fits.open(cal_path + 'flat_g_master.fits')[0].data\n",
    "flat_r = fits.open(cal_path + 'flat_r_master.fits')[0].data\n",
    "\n",
    "stars = os.listdir(data_path)\n",
    "print(stars)\n",
    "for star in stars:\n",
    "    if re.search(star_name, star):\n",
    "\n",
    "        col_band = os.listdir(data_path + star)\n",
    "        \n",
    "        col_band = col_band[1:]\n",
    "            \n",
    "        print(col_band)\n",
    "        for band in col_band:\n",
    "            \n",
    "            if band.endswith('I'):\n",
    "                flat = flat_i\n",
    "            elif band.endswith('G'):\n",
    "                flat = flat_g\n",
    "            elif band.endswith('R'):\n",
    "                flat = flat_r\n",
    "\n",
    "            avg_flat_dark = np.mean((flat-flat_dark))\n",
    "            print(avg_flat_dark)\n",
    "            files = os.listdir(data_path + star + '/' + band)\n",
    "            for file in files:\n",
    "\n",
    "                if re.search(exposure ,file):\n",
    "                    dark = fits.open(cal_path + 'dark_' + exposure + '_master.fits')[0].data\n",
    "\n",
    "                if file.endswith('.fits'):\n",
    "                    science = fits.open(data_path + star + '/' + band + '/' + file)[0].data\n",
    "                    header = fits.open(data_path + star + '/' + band + '/' + file)[0].header\n",
    "                    cali_img = (science - dark) * (avg_flat_dark/(flat - flat_dark))\n",
    "\n",
    "                    plt.imshow(cali_img)\n",
    "                    plt.set_cmap('gray')\n",
    "                    \n",
    "                    hdu = fits.PrimaryHDU(cali_img)\n",
    "                    hdu.header.update(header)\n",
    "                    hdu.writeto(data_path + 'calibrated_images/' + star + '/' + band + '/' + '_calibrated_' + file, overwrite = True)\n"
   ]
  },
  {
   "cell_type": "code",
   "execution_count": 32,
   "metadata": {},
   "outputs": [
    {
     "name": "stdout",
     "output_type": "stream",
     "text": [
      "Sending data to AstrometryNet server:\n",
      "Solving.....\n",
      " -> Success. Solving took 5.4s\n",
      "[{'coordinate_type': 'celestial', 'scale': 'non-linear celestial', 'group': 0, 'number': 0}, {'coordinate_type': 'celestial', 'scale': 'non-linear celestial', 'group': 0, 'number': 1}]\n"
     ]
    },
    {
     "name": "stderr",
     "output_type": "stream",
     "text": [
      "WARNING: FITSFixedWarning: The WCS transformation has more axes (2) than the image it is associated with (0) [astropy.wcs.wcs]\n"
     ]
    },
    {
     "ename": "TypeError",
     "evalue": "WCSAxes.__init__() got multiple values for argument 'wcs'",
     "output_type": "error",
     "traceback": [
      "\u001b[0;31m---------------------------------------------------------------------------\u001b[0m",
      "\u001b[0;31mTypeError\u001b[0m                                 Traceback (most recent call last)",
      "Cell \u001b[0;32mIn[32], line 56\u001b[0m\n\u001b[1;32m     53\u001b[0m \u001b[39mprint\u001b[39m(wcs\u001b[39m.\u001b[39mget_axis_types())\n\u001b[1;32m     55\u001b[0m plt\u001b[39m.\u001b[39mfigure(figsize\u001b[39m=\u001b[39m(\u001b[39m10\u001b[39m,\u001b[39m18\u001b[39m))\n\u001b[0;32m---> 56\u001b[0m plt\u001b[39m.\u001b[39msubplot(projection\u001b[39m=\u001b[39mwcs[\u001b[39m0\u001b[39m])\n\u001b[1;32m     57\u001b[0m \u001b[39m#get some colour limits\u001b[39;00m\n\u001b[1;32m     58\u001b[0m mean_intensity \u001b[39m=\u001b[39m np\u001b[39m.\u001b[39mmean(data)\n",
      "File \u001b[0;32m~/anaconda3/lib/python3.11/site-packages/matplotlib/pyplot.py:1338\u001b[0m, in \u001b[0;36msubplot\u001b[0;34m(*args, **kwargs)\u001b[0m\n\u001b[1;32m   1335\u001b[0m             \u001b[39mbreak\u001b[39;00m\n\u001b[1;32m   1336\u001b[0m \u001b[39melse\u001b[39;00m:\n\u001b[1;32m   1337\u001b[0m     \u001b[39m# we have exhausted the known Axes and none match, make a new one!\u001b[39;00m\n\u001b[0;32m-> 1338\u001b[0m     ax \u001b[39m=\u001b[39m fig\u001b[39m.\u001b[39madd_subplot(\u001b[39m*\u001b[39margs, \u001b[39m*\u001b[39m\u001b[39m*\u001b[39mkwargs)\n\u001b[1;32m   1340\u001b[0m fig\u001b[39m.\u001b[39msca(ax)\n\u001b[1;32m   1342\u001b[0m axes_to_delete \u001b[39m=\u001b[39m [other \u001b[39mfor\u001b[39;00m other \u001b[39min\u001b[39;00m fig\u001b[39m.\u001b[39maxes\n\u001b[1;32m   1343\u001b[0m                   \u001b[39mif\u001b[39;00m other \u001b[39m!=\u001b[39m ax \u001b[39mand\u001b[39;00m ax\u001b[39m.\u001b[39mbbox\u001b[39m.\u001b[39mfully_overlaps(other\u001b[39m.\u001b[39mbbox)]\n",
      "File \u001b[0;32m~/anaconda3/lib/python3.11/site-packages/matplotlib/figure.py:768\u001b[0m, in \u001b[0;36mFigureBase.add_subplot\u001b[0;34m(self, *args, **kwargs)\u001b[0m\n\u001b[1;32m    765\u001b[0m         args \u001b[39m=\u001b[39m \u001b[39mtuple\u001b[39m(\u001b[39mmap\u001b[39m(\u001b[39mint\u001b[39m, \u001b[39mstr\u001b[39m(args[\u001b[39m0\u001b[39m])))\n\u001b[1;32m    766\u001b[0m     projection_class, pkw \u001b[39m=\u001b[39m \u001b[39mself\u001b[39m\u001b[39m.\u001b[39m_process_projection_requirements(\n\u001b[1;32m    767\u001b[0m         \u001b[39m*\u001b[39margs, \u001b[39m*\u001b[39m\u001b[39m*\u001b[39mkwargs)\n\u001b[0;32m--> 768\u001b[0m     ax \u001b[39m=\u001b[39m projection_class(\u001b[39mself\u001b[39m, \u001b[39m*\u001b[39margs, \u001b[39m*\u001b[39m\u001b[39m*\u001b[39mpkw)\n\u001b[1;32m    769\u001b[0m     key \u001b[39m=\u001b[39m (projection_class, pkw)\n\u001b[1;32m    770\u001b[0m \u001b[39mreturn\u001b[39;00m \u001b[39mself\u001b[39m\u001b[39m.\u001b[39m_add_axes_internal(ax, key)\n",
      "\u001b[0;31mTypeError\u001b[0m: WCSAxes.__init__() got multiple values for argument 'wcs'"
     ]
    },
    {
     "data": {
      "text/plain": [
       "<Figure size 1000x1800 with 0 Axes>"
      ]
     },
     "metadata": {},
     "output_type": "display_data"
    }
   ],
   "source": [
    "for star in stars:\n",
    "    if re.search(star_name, star):\n",
    "        col_band = os.listdir(data_path + star)\n",
    "        \n",
    "        col_band = col_band[1:]\n",
    "        for band in col_band:\n",
    "            files = os.listdir(data_path + star + '/' + band)\n",
    "            for file in files:\n",
    "                if file.endswith('.fits'):\n",
    "                    data = fits.open(data_path + star + '/' + band + '/' + file)[0].data\n",
    "                    header = fits.open(data_path + star + '/' + band + '/' + file)[0].header\n",
    "\n",
    "\n",
    "                    d_mean = np.mean(data);    \n",
    "                    d_std  = np.std(data);     \n",
    "                    vmin = d_mean - d_std/2     \n",
    "                    vmax = d_mean + d_std   \n",
    "\n",
    "\n",
    "                    bkg_sigma = mad_std(data)                                    \n",
    "                    daofind = DAOStarFinder(fwhm=6, threshold=20*bkg_sigma)    \n",
    "\n",
    "                    sources = daofind(data)  \n",
    "                    for col in sources.colnames:  \n",
    "                        sources[col].info.format = '%.6g' \n",
    "\n",
    "\n",
    "                    sources.sort('flux') \n",
    "                    sources.reverse()   \n",
    "                    sources  \n",
    "\n",
    "\n",
    "                    image_width, image_height = data.shape\n",
    "                    wcs_header = None           \n",
    "                    t_start = time.time()\n",
    "                    try:\n",
    "                        print('Sending data to AstrometryNet server:')\n",
    "                        wcs_header = ast.solve_from_source_list(sources['xcentroid'], sources['ycentroid'],\n",
    "                                                                image_width, image_height,\n",
    "                                                                solve_timeout=30000)\n",
    "                        if wcs_header:   \n",
    "                            print('\\n -> Success. Solving took {:0.1f}s'.format(time.time()-t_start))\n",
    "                            # print_header(wcs_header)        \n",
    "                        else:\n",
    "                            print('\\n -> Solving failed after {:0.1f}s'.format(time.time()-t_start))   \n",
    "                    except TimeoutError:       \n",
    "                        print('\\n -> ##FAIL: Timeout while solving, try a longer timeout, optmise number of sources (200-800 seems about right)')\n",
    "\n",
    "                    header.update(wcs_header) \n",
    "\n",
    "                    wcs = WCS(wcs_header)\n",
    "\n",
    "                    print(wcs.get_axis_types())\n",
    "\n",
    "                    plt.figure(figsize=(10,18))\n",
    "                    plt.subplot(projection=wcs[0])\n",
    "                    #get some colour limits\n",
    "                    mean_intensity = np.mean(data)\n",
    "                    r = 200\n",
    "                    plt.imshow(data,vmin=mean_intensity, vmax = mean_intensity+r, cmap='gray')    \n",
    "                    plt.grid(color='lightblue', ls='solid')    \n",
    "\n",
    "                    # flip the y-axis to get dec increasing to the top\n",
    "                    plt.gca().invert_yaxis()\n",
    "                    plt.show()\n",
    "\n",
    "                    hdu = fits.PrimaryHDU(data)         # create a FITS HDU object\n",
    "                    hdu.header = header\n",
    "                    hdu.header.update(wcs_header)       # add in the header containg the wcs data\n",
    "                    hdu.writeto(data_path + 'platesolved_img/' + star + '/' + band + '/' + '_platesolved_' + file, overwrite = True)\n",
    "\n",
    "                    break"
   ]
  },
  {
   "cell_type": "code",
   "execution_count": null,
   "metadata": {},
   "outputs": [],
   "source": [
    "# cali = fits.open(data_path + 'calibrated_images/' + star + '/' + band + '/' + '_calibrated_')[0].data\n",
    "# plate = \n",
    "\n",
    "# plt.figure(figsize = (10,10))\n",
    "# plt.imshow"
   ]
  },
  {
   "cell_type": "code",
   "execution_count": null,
   "metadata": {},
   "outputs": [],
   "source": []
  },
  {
   "cell_type": "code",
   "execution_count": null,
   "metadata": {},
   "outputs": [],
   "source": []
  },
  {
   "cell_type": "code",
   "execution_count": null,
   "metadata": {},
   "outputs": [],
   "source": []
  },
  {
   "cell_type": "code",
   "execution_count": null,
   "metadata": {},
   "outputs": [],
   "source": []
  },
  {
   "cell_type": "code",
   "execution_count": null,
   "metadata": {},
   "outputs": [],
   "source": []
  },
  {
   "cell_type": "code",
   "execution_count": null,
   "metadata": {},
   "outputs": [],
   "source": []
  },
  {
   "cell_type": "code",
   "execution_count": null,
   "metadata": {},
   "outputs": [],
   "source": []
  }
 ],
 "metadata": {
  "kernelspec": {
   "display_name": "Python 3.11.5 ('base')",
   "language": "python",
   "name": "python3"
  },
  "language_info": {
   "codemirror_mode": {
    "name": "ipython",
    "version": 3
   },
   "file_extension": ".py",
   "mimetype": "text/x-python",
   "name": "python",
   "nbconvert_exporter": "python",
   "pygments_lexer": "ipython3",
   "version": "3.11.5"
  },
  "orig_nbformat": 4,
  "vscode": {
   "interpreter": {
    "hash": "70e0cb35dbfcf992d552b8f436f4a059eda965a3fdd52879b6c7dca44efa4a9d"
   }
  }
 },
 "nbformat": 4,
 "nbformat_minor": 2
}
